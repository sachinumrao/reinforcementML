{
 "cells": [
  {
   "cell_type": "code",
   "execution_count": 1,
   "metadata": {},
   "outputs": [],
   "source": [
    "import gym\n",
    "import universe"
   ]
  },
  {
   "cell_type": "code",
   "execution_count": 3,
   "metadata": {},
   "outputs": [
    {
     "name": "stderr",
     "output_type": "stream",
     "text": [
      "[2018-07-26 00:10:44,935] Making new env: flashgames.NeonRace-v0\n",
      "[2018-07-26 00:10:44,982] Ports used: dict_keys([])\n",
      "[2018-07-26 00:10:44,984] [0] Creating container: image=quay.io/openai/universe.flashgames:0.20.28. Run the same thing by hand as: docker run -p 5900:5900 -p 15900:15900 --privileged --cap-add SYS_ADMIN --ipc host quay.io/openai/universe.flashgames:0.20.28\n",
      "[2018-07-26 00:10:45,619] Remote closed: address=localhost:5900\n",
      "[2018-07-26 00:10:45,622] At least one sockets was closed by the remote. Sleeping 1s...\n"
     ]
    },
    {
     "name": "stdout",
     "output_type": "stream",
     "text": [
      "\u001b[36muniverse-Tsb2Bx-0 |\u001b[0m Setting VNC and rewarder password: openai\n",
      "\u001b[36muniverse-Tsb2Bx-0 |\u001b[0m [Wed Jul 25 18:40:45 UTC 2018] Waiting for /tmp/.X11-unix/X0 to be created (try 1/10)\n",
      "\u001b[36muniverse-Tsb2Bx-0 |\u001b[0m [Wed Jul 25 18:40:45 UTC 2018] [/usr/local/bin/sudoable-env-setup] Disabling outbound network traffic for none\n",
      "\u001b[36muniverse-Tsb2Bx-0 |\u001b[0m [init] [2018-07-25 18:40:45,259] Launching system_diagnostics_logger.py, recorder_logdir=/tmp/demo\n",
      "\u001b[36muniverse-Tsb2Bx-0 |\u001b[0m [init] [2018-07-25 18:40:45,261] Launching reward_recorder.py, recorder_logdir=/tmp/demo\n",
      "\u001b[36muniverse-Tsb2Bx-0 |\u001b[0m [init] [2018-07-25 18:40:45,266] Launching vnc_recorder.py, recorder_logdir=/tmp/demo\n",
      "\u001b[36muniverse-Tsb2Bx-0 |\u001b[0m [init] [2018-07-25 18:40:45,274] PID 54 launched with command ['sudo', '-H', '-u', 'nobody', 'DISPLAY=:0', 'DBUS_SESSION_BUS_ADDRESS=/dev/null', '/app/universe-envs/controlplane/bin/controlplane.py', '--rewarder-port=15901']\n",
      "\u001b[36muniverse-Tsb2Bx-0 |\u001b[0m [tigervnc] \n",
      "\u001b[36muniverse-Tsb2Bx-0 |\u001b[0m [tigervnc] Xvnc TigerVNC 1.7.0 - built Sep  8 2016 10:39:22\n",
      "\u001b[36muniverse-Tsb2Bx-0 |\u001b[0m [tigervnc] Copyright (C) 1999-2016 TigerVNC Team and many others (see README.txt)\n",
      "\u001b[36muniverse-Tsb2Bx-0 |\u001b[0m [tigervnc] See http://www.tigervnc.org for information on TigerVNC.\n",
      "\u001b[36muniverse-Tsb2Bx-0 |\u001b[0m [tigervnc] Underlying X server release 11400000, The X.Org Foundation\n",
      "\u001b[36muniverse-Tsb2Bx-0 |\u001b[0m [tigervnc] \n",
      "\u001b[36muniverse-Tsb2Bx-0 |\u001b[0m [tigervnc] Initializing built-in extension VNC-EXTENSION\n",
      "\u001b[36muniverse-Tsb2Bx-0 |\u001b[0m [tigervnc] Initializing built-in extension Generic Event Extension\n",
      "\u001b[36muniverse-Tsb2Bx-0 |\u001b[0m [tigervnc] Initializing built-in extension SHAPE\n",
      "\u001b[36muniverse-Tsb2Bx-0 |\u001b[0m [tigervnc] Initializing built-in extension MIT-SHM\n",
      "\u001b[36muniverse-Tsb2Bx-0 |\u001b[0m [tigervnc] Initializing built-in extension XInputExtension\n",
      "\u001b[36muniverse-Tsb2Bx-0 |\u001b[0m [tigervnc] Initializing built-in extension XTEST\n",
      "\u001b[36muniverse-Tsb2Bx-0 |\u001b[0m [tigervnc] Initializing built-in extension BIG-REQUESTS\n",
      "\u001b[36muniverse-Tsb2Bx-0 |\u001b[0m [tigervnc] Initializing built-in extension SYNC\n",
      "\u001b[36muniverse-Tsb2Bx-0 |\u001b[0m [tigervnc] Initializing built-in extension XKEYBOARD\n",
      "\u001b[36muniverse-Tsb2Bx-0 |\u001b[0m [tigervnc] Initializing built-in extension XC-MISC\n",
      "\u001b[36muniverse-Tsb2Bx-0 |\u001b[0m [tigervnc] Initializing built-in extension XINERAMA\n",
      "\u001b[36muniverse-Tsb2Bx-0 |\u001b[0m [tigervnc] Initializing built-in extension XFIXES\n",
      "\u001b[36muniverse-Tsb2Bx-0 |\u001b[0m [tigervnc] Initializing built-in extension RENDER\n",
      "\u001b[36muniverse-Tsb2Bx-0 |\u001b[0m [tigervnc] Initializing built-in extension RANDR\n",
      "\u001b[36muniverse-Tsb2Bx-0 |\u001b[0m [tigervnc] Initializing built-in extension COMPOSITE\n",
      "\u001b[36muniverse-Tsb2Bx-0 |\u001b[0m [tigervnc] Initializing built-in extension DAMAGE\n",
      "\u001b[36muniverse-Tsb2Bx-0 |\u001b[0m [tigervnc] Initializing built-in extension MIT-SCREEN-SAVER\n",
      "\u001b[36muniverse-Tsb2Bx-0 |\u001b[0m [tigervnc] Initializing built-in extension DOUBLE-BUFFER\n",
      "\u001b[36muniverse-Tsb2Bx-0 |\u001b[0m [tigervnc] Initializing built-in extension RECORD\n",
      "\u001b[36muniverse-Tsb2Bx-0 |\u001b[0m [tigervnc] Initializing built-in extension DPMS\n",
      "\u001b[36muniverse-Tsb2Bx-0 |\u001b[0m [tigervnc] Initializing built-in extension X-Resource\n",
      "\u001b[36muniverse-Tsb2Bx-0 |\u001b[0m [tigervnc] Initializing built-in extension XVideo\n",
      "\u001b[36muniverse-Tsb2Bx-0 |\u001b[0m [tigervnc] Initializing built-in extension XVideo-MotionCompensation\n",
      "\u001b[36muniverse-Tsb2Bx-0 |\u001b[0m [tigervnc] Initializing built-in extension GLX\n",
      "\u001b[36muniverse-Tsb2Bx-0 |\u001b[0m [tigervnc] \n",
      "\u001b[36muniverse-Tsb2Bx-0 |\u001b[0m [tigervnc] Wed Jul 25 18:40:45 2018\n",
      "\u001b[36muniverse-Tsb2Bx-0 |\u001b[0m [tigervnc]  vncext:      VNC extension running!\n",
      "\u001b[36muniverse-Tsb2Bx-0 |\u001b[0m [tigervnc]  vncext:      Listening for VNC connections on all interface(s), port 5900\n",
      "\u001b[36muniverse-Tsb2Bx-0 |\u001b[0m [tigervnc]  vncext:      created VNC server for screen 0\n",
      "\u001b[36muniverse-Tsb2Bx-0 |\u001b[0m [tigervnc] [dix] Could not init font path element /usr/share/fonts/X11/Type1/, removing from list!\n",
      "\u001b[36muniverse-Tsb2Bx-0 |\u001b[0m [tigervnc] [dix] Could not init font path element /usr/share/fonts/X11/75dpi/, removing from list!\n",
      "\u001b[36muniverse-Tsb2Bx-0 |\u001b[0m [tigervnc] [dix] Could not init font path element /usr/share/fonts/X11/100dpi/, removing from list!\n",
      "\u001b[36muniverse-Tsb2Bx-0 |\u001b[0m [init] [2018-07-25 18:40:45,634] init detected end of child process 56 with exit code 0, not killed by signal\n",
      "\u001b[36muniverse-Tsb2Bx-0 |\u001b[0m WebSocket server settings:\n",
      "\u001b[36muniverse-Tsb2Bx-0 |\u001b[0m   - Listen on :5898\n",
      "\u001b[36muniverse-Tsb2Bx-0 |\u001b[0m   - Flash security policy server\n",
      "\u001b[36muniverse-Tsb2Bx-0 |\u001b[0m   - No SSL/TLS support (no cert file)\n",
      "\u001b[36muniverse-Tsb2Bx-0 |\u001b[0m   - proxying from :5898 to localhost:5900\n"
     ]
    },
    {
     "name": "stderr",
     "output_type": "stream",
     "text": [
      "[2018-07-26 00:10:46,629] Remote closed: address=localhost:15900\n",
      "[2018-07-26 00:10:46,631] Remote closed: address=localhost:5900\n",
      "[2018-07-26 00:10:46,633] At least one sockets was closed by the remote. Sleeping 1s...\n"
     ]
    },
    {
     "name": "stdout",
     "output_type": "stream",
     "text": [
      "\u001b[36muniverse-Tsb2Bx-0 |\u001b[0m [nginx] 2018/07/25 18:40:45 [error] 65#65: *1 connect() failed (111: Connection refused) while connecting to upstream, client: 172.17.0.1, server: , request: \"GET / HTTP/1.1\", upstream: \"http://127.0.0.1:15901/\", host: \"127.0.0.1:10003\"\n",
      "\u001b[36muniverse-Tsb2Bx-0 |\u001b[0m [nginx] 172.17.0.1 - openai [25/Jul/2018:18:40:45 +0000] \"GET / HTTP/1.1\" 502 182 \"-\" \"-\"\n",
      "\u001b[36muniverse-Tsb2Bx-0 |\u001b[0m [tigervnc]  Connections: accepted: 172.17.0.1::53382\n",
      "\u001b[36muniverse-Tsb2Bx-0 |\u001b[0m [init] [2018-07-25 18:40:46,228] init detected end of child process 18 with exit code 0, not killed by signal\n",
      "\u001b[36muniverse-Tsb2Bx-0 |\u001b[0m [reward_recorder] [2018-07-25 18:40:46,414] Listening on 0.0.0.0:15898\n",
      "\u001b[36muniverse-Tsb2Bx-0 |\u001b[0m [vnc_recorder] [2018-07-25 18:40:46,415] Listening on 0.0.0.0:5899\n",
      "\u001b[36muniverse-Tsb2Bx-0 |\u001b[0m [2018-07-25 18:40:46,638] [INFO:root] Starting play_controlplane.py with the following: command=['/app/universe-envs/controlplane/bin/controlplane.py', '--rewarder-port=15901'] args=Namespace(bot_demonstration=False, demonstration=False, env_id=None, idle_timeout=None, integrator_mode=False, no_env=False, no_rewarder=False, no_scorer=False, no_vexpect=False, remotes='vnc://127.0.0.1:5900', rewarder_fps=60, rewarder_port=15901, verbosity=0) env=environ({'TERM': 'xterm', 'LOGNAME': 'nobody', 'SHELL': '/usr/sbin/nologin', 'HOME': '/nonexistent', 'DBUS_SESSION_BUS_ADDRESS': '/dev/null', 'USERNAME': 'nobody', 'SUDO_USER': 'root', 'SUDO_GID': '0', 'DISPLAY': ':0', 'MAIL': '/var/mail/nobody', 'USER': 'nobody', 'HOSTNAME': 'fceba6f3992c', 'SUDO_COMMAND': '/app/universe-envs/controlplane/bin/controlplane.py --rewarder-port=15901', 'PATH': '/usr/local/sbin:/usr/local/bin:/usr/sbin:/usr/bin:/sbin:/bin:/snap/bin', 'SUDO_UID': '0'})\n",
      "\u001b[36muniverse-Tsb2Bx-0 |\u001b[0m [2018-07-25 18:40:46,639] [INFO:root] [EnvStatus] Changing env_state: None (env_id=None) -> None (env_id=None) (episode_id: 0->0, fps=60)\n",
      "\u001b[36muniverse-Tsb2Bx-0 |\u001b[0m [2018-07-25 18:40:46,639] [INFO:universe.rewarder.remote] Starting Rewarder on port=15901\n",
      "\u001b[36muniverse-Tsb2Bx-0 |\u001b[0m [2018-07-25 18:40:46,641] [INFO:universe.extra.universe.wrappers.logger] Running VNC environments with Logger set to print_frequency=5. To change this, pass \"print_frequency=k\" or \"print_frequency=None\" to \"env.configure\".\n",
      "\u001b[36muniverse-Tsb2Bx-0 |\u001b[0m [2018-07-25 18:40:46,642] [INFO:universe.remotes.hardcoded_addresses] No rewarder addresses were provided, so this env cannot connect to the remote's rewarder channel, and cannot send control messages (e.g. reset)\n",
      "\u001b[36muniverse-Tsb2Bx-0 |\u001b[0m [2018-07-25 18:40:46,643] [INFO:universe.envs.vnc_env] Using the golang VNC implementation\n",
      "\u001b[36muniverse-Tsb2Bx-0 |\u001b[0m [2018-07-25 18:40:46,643] [INFO:universe.envs.vnc_env] Using VNCSession arguments: {'subsample_level': 2, 'encoding': 'zrle', 'compress_level': 9, 'fine_quality_level': 50, 'start_timeout': 7}. (Customize by running \"env.configure(vnc_kwargs={...})\"\n",
      "\u001b[36muniverse-Tsb2Bx-0 |\u001b[0m [2018-07-25 18:40:46,643] [INFO:universe.envs.vnc_env] Printed stats will ignore clock skew. (This usually makes sense only when the environment and agent are on the same machine.)\n",
      "\u001b[36muniverse-Tsb2Bx-0 |\u001b[0m [2018-07-25 18:40:46,653] [INFO:universe.envs.vnc_env] [0] Connecting to environment: vnc://127.0.0.1:5900 password=openai. If desired, you can manually connect a VNC viewer, such as TurboVNC. Most environments provide a convenient in-browser VNC client: http://None/viewer/?password=openai\n",
      "\u001b[36muniverse-Tsb2Bx-0 |\u001b[0m [2018-07-25 18:40:46,653] [INFO:universe.extra.universe.envs.vnc_env] [0] Connecting to environment details: vnc_address=127.0.0.1:5900 vnc_password=openai rewarder_address=None rewarder_password=openai\n",
      "\u001b[36muniverse-Tsb2Bx-0 |\u001b[0m 2018/07/25 18:40:46 I0725 18:40:46.653934 58 gymvnc.go:417] [0:127.0.0.1:5900] opening connection to VNC server\n",
      "\u001b[36muniverse-Tsb2Bx-0 |\u001b[0m [2018-07-25 18:40:46,654] [INFO:root] [EnvStatus] Changing env_state: None (env_id=None) -> resetting (env_id=None) (episode_id: 0->1, fps=60)\n",
      "\u001b[36muniverse-Tsb2Bx-0 |\u001b[0m [2018-07-25 18:40:46,654] [INFO:root] [MainThread] Env state: env_id=None episode_id=1\n",
      "\u001b[36muniverse-Tsb2Bx-0 |\u001b[0m [2018-07-25 18:40:46,655] [INFO:root] [MainThread] Writing None to /tmp/demo/env_id.txt\n",
      "\u001b[36muniverse-Tsb2Bx-0 |\u001b[0m [tigervnc] \n",
      "\u001b[36muniverse-Tsb2Bx-0 |\u001b[0m [tigervnc] Wed Jul 25 18:40:46 2018\n",
      "\u001b[36muniverse-Tsb2Bx-0 |\u001b[0m [tigervnc]  Connections: accepted: 127.0.0.1::39856\n",
      "\u001b[36muniverse-Tsb2Bx-0 |\u001b[0m [tigervnc]  SConnection: Client needs protocol version 3.8\n",
      "\u001b[36muniverse-Tsb2Bx-0 |\u001b[0m [tigervnc]  SConnection: Client requests security type VncAuth(2)\n",
      "\u001b[36muniverse-Tsb2Bx-0 |\u001b[0m [tigervnc]  VNCSConnST:  Server default pixel format depth 24 (32bpp) little-endian rgb888\n",
      "\u001b[36muniverse-Tsb2Bx-0 |\u001b[0m [tigervnc]  VNCSConnST:  Client pixel format depth 24 (32bpp) little-endian bgr888\n",
      "\u001b[36muniverse-Tsb2Bx-0 |\u001b[0m 2018/07/25 18:40:46 I0725 18:40:46.664743 58 gymvnc.go:550] [0:127.0.0.1:5900] connection established\n",
      "\u001b[36muniverse-Tsb2Bx-0 |\u001b[0m [Wed Jul 25 18:40:46 UTC 2018] [/usr/local/bin/sudoable-env-setup] Disabling outbound network traffic for none\n",
      "\u001b[36muniverse-Tsb2Bx-0 |\u001b[0m [2018-07-25 18:40:46,698] [INFO:gym_flashgames.launcher] [MainThread] Launching new Chrome process (attempt 0/10)\n",
      "\u001b[36muniverse-Tsb2Bx-0 |\u001b[0m [2018-07-25 18:40:46,699] [INFO:root] Replacing selenium_wrapper_server since we currently do it at every episode boundary\n",
      "\u001b[36muniverse-Tsb2Bx-0 |\u001b[0m [2018-07-25 18:40:46,881] [selenium_wrapper_server] Calling webdriver.Chrome()\n"
     ]
    },
    {
     "name": "stderr",
     "output_type": "stream",
     "text": [
      "[2018-07-26 00:10:47,639] Using the golang VNC implementation\n",
      "[2018-07-26 00:10:47,640] Using VNCSession arguments: {'start_timeout': 7, 'encoding': 'tight', 'fine_quality_level': 50, 'subsample_level': 2}. (Customize by running \"env.configure(vnc_kwargs={...})\"\n"
     ]
    },
    {
     "name": "stdout",
     "output_type": "stream",
     "text": [
      "\u001b[36muniverse-Tsb2Bx-0 |\u001b[0m [nginx] 2018/07/25 18:40:46 [info] 65#65: *1 client 172.17.0.1 closed keepalive connection\n",
      "\u001b[36muniverse-Tsb2Bx-0 |\u001b[0m [tigervnc]  Connections: closed: 172.17.0.1::53382 (Clean disconnection)\n",
      "\u001b[36muniverse-Tsb2Bx-0 |\u001b[0m [tigervnc]  EncodeManager: Framebuffer updates: 0\n",
      "\u001b[36muniverse-Tsb2Bx-0 |\u001b[0m [tigervnc]  EncodeManager:   Total: 0 rects, 0 pixels\n",
      "\u001b[36muniverse-Tsb2Bx-0 |\u001b[0m [tigervnc]  EncodeManager:          0 B (1:-nan ratio)\n"
     ]
    },
    {
     "name": "stderr",
     "output_type": "stream",
     "text": [
      "[2018-07-26 00:10:47,654] [0] Connecting to environment: vnc://localhost:5900 password=openai. If desired, you can manually connect a VNC viewer, such as TurboVNC. Most environments provide a convenient in-browser VNC client: http://localhost:15900/viewer/?password=openai\n"
     ]
    },
    {
     "name": "stdout",
     "output_type": "stream",
     "text": [
      "\u001b[36muniverse-Tsb2Bx-0 |\u001b[0m [tigervnc]  Connections: accepted: 172.17.0.1::53386\n",
      "\u001b[36muniverse-Tsb2Bx-0 |\u001b[0m [tigervnc]  SConnection: Client needs protocol version 3.8\n",
      "\u001b[36muniverse-Tsb2Bx-0 |\u001b[0m [tigervnc]  SConnection: Client requests security type VncAuth(2)\n",
      "\u001b[36muniverse-Tsb2Bx-0 |\u001b[0m [tigervnc]  VNCSConnST:  Server default pixel format depth 24 (32bpp) little-endian rgb888\n",
      "\u001b[36muniverse-Tsb2Bx-0 |\u001b[0m [tigervnc]  VNCSConnST:  Client pixel format depth 24 (32bpp) little-endian bgr888\n",
      "\u001b[36muniverse-Tsb2Bx-0 |\u001b[0m [2018-07-25 18:40:46,978] [INFO:universe.rewarder.remote] Client connecting: peer=tcp4:127.0.0.1:33358 observer=False\n",
      "\u001b[36muniverse-Tsb2Bx-0 |\u001b[0m [2018-07-25 18:40:46,978] [INFO:universe.rewarder.remote] WebSocket connection established\n",
      "\u001b[36muniverse-Tsb2Bx-0 |\u001b[0m [nginx] 2018/07/25 18:40:48 [info] 65#65: *5 client sent invalid request while reading client request line, client: 127.0.0.1, server: , request: \"CONNECT www.google.com:443 HTTP/1.1\"\n",
      "\u001b[36muniverse-Tsb2Bx-0 |\u001b[0m [nginx] 2018/07/25 18:40:48 [info] 65#65: *6 client sent invalid request while reading client request line, client: 127.0.0.1, server: , request: \"CONNECT www.google.com:443 HTTP/1.1\"\n",
      "\u001b[36muniverse-Tsb2Bx-0 |\u001b[0m [nginx] 2018/07/25 18:40:49 [info] 65#65: *7 client sent invalid request while reading client request line, client: 127.0.0.1, server: , request: \"CONNECT www.google.com:443 HTTP/1.1\"\n",
      "\u001b[36muniverse-Tsb2Bx-0 |\u001b[0m [2018-07-25 18:40:49,098] [selenium_wrapper_server] Call to webdriver.Chrome() completed: 2.22s\n",
      "\u001b[36muniverse-Tsb2Bx-0 |\u001b[0m [2018-07-25 18:40:49,099] [INFO:gym_flashgames.launcher] [MainThread] Navigating browser to url=http://localhost\n",
      "\u001b[36muniverse-Tsb2Bx-0 |\u001b[0m [2018-07-25 18:40:49,181] [INFO:root] [EnvStatus] Changing env_state: resetting (env_id=None) -> running (env_id=None) (episode_id: 1->1, fps=60)\n",
      "\u001b[36muniverse-Tsb2Bx-0 |\u001b[0m [2018-07-25 18:40:49,184] [INFO:root] [MainThread] Writing None to /tmp/demo/env_id.txt\n",
      "\u001b[36muniverse-Tsb2Bx-0 |\u001b[0m Manhole[1532544049.1959]: Patched <built-in function fork> and <built-in function fork>.\n",
      "\u001b[36muniverse-Tsb2Bx-0 |\u001b[0m Manhole[1532544049.2015]: Manhole UDS path: /tmp/manhole-58\n",
      "\u001b[36muniverse-Tsb2Bx-0 |\u001b[0m Manhole[1532544049.2015]: Waiting for new connection (in pid:58) ...\n",
      "\u001b[36muniverse-Tsb2Bx-0 |\u001b[0m [2018-07-25 18:40:51,670] [INFO:universe.wrappers.logger] Stats for the past 5.02s: vnc_updates_ps=3.6 n=1 reaction_time=None observation_lag=None action_lag=None reward_ps=0.0 reward_total=0.0 vnc_bytes_ps[total]=512518.4 vnc_pixels_ps[total]=503456.1 reward_lag=None rewarder_message_lag=None fps=29.91\n",
      "\u001b[36muniverse-Tsb2Bx-0 |\u001b[0m [2018-07-25 18:40:54,187] [INFO:universe.pyprofile] [pyprofile] period=5.00s timers={\"rewarder.frame\": {\"mean\": \"17.92ms\", \"std\": \"932.15us\", \"calls\": 300}, \"rewarder.sleep\": {\"mean\": \"14.82ms\", \"std\": \"1.29ms\", \"calls\": 300}, \"rewarder.compute_reward\": {\"mean\": \"506.32us\", \"std\": \"938.59us\", \"calls\": 301}, \"vnc_env.VNCEnv.vnc_session.step\": {\"mean\": \"224.13us\", \"std\": \"205.11us\", \"calls\": 301}} counters={\"reward.vnc.updates.n\": {\"mean\": 0.05980066445182727, \"calls\": 301, \"std\": 0.613524213159424}} gauges={} (export_time=166.42us)\n",
      "\u001b[36muniverse-Tsb2Bx-0 |\u001b[0m [2018-07-25 18:40:54,188] [INFO:universe.rewarder.remote] [Rewarder] Over past 5.00s, sent 1 reward messages to agent: reward=0 reward_min=0 reward_max=0 done=False info={'rewarder.vnc.updates.n': 0, 'rewarder.profile': '<761 bytes>', 'rewarder.vnc.updates.bytes': 0, 'rewarder.vnc.updates.pixels': 0}\n",
      "\u001b[36muniverse-Tsb2Bx-0 |\u001b[0m [2018-07-25 18:40:56,686] [INFO:universe.wrappers.logger] Stats for the past 5.01s: vnc_updates_ps=0.0 n=1 reaction_time=None observation_lag=None action_lag=None reward_ps=0.0 reward_total=0.0 vnc_bytes_ps[total]=0.0 vnc_pixels_ps[total]=0.0 reward_lag=None rewarder_message_lag=None fps=60.02\n",
      "\u001b[36muniverse-Tsb2Bx-0 |\u001b[0m [2018-07-25 18:40:59,206] [INFO:universe.pyprofile] [pyprofile] period=5.02s timers={\"rewarder.frame\": {\"mean\": \"17.93ms\", \"std\": \"993.33us\", \"calls\": 301}, \"rewarder.sleep\": {\"mean\": \"14.83ms\", \"std\": \"1.02ms\", \"calls\": 301}, \"rewarder.compute_reward\": {\"mean\": \"457.76us\", \"std\": \"167.63us\", \"calls\": 301}, \"vnc_env.VNCEnv.vnc_session.step\": {\"mean\": \"205.72us\", \"std\": \"89.28us\", \"calls\": 301}} counters={\"agent_conn.reward\": {\"mean\": 0.0, \"calls\": 1, \"std\": 0}, \"reward.vnc.updates.n\": {\"mean\": 0.0, \"calls\": 301, \"std\": 0.0}} gauges={} (export_time=165.70us)\n",
      "\u001b[36muniverse-Tsb2Bx-0 |\u001b[0m [2018-07-25 18:40:59,206] [INFO:universe.rewarder.remote] [Rewarder] Over past 5.02s, sent 1 reward messages to agent: reward=0 reward_min=0 reward_max=0 done=False info={'rewarder.vnc.updates.n': 0, 'rewarder.profile': '<804 bytes>', 'rewarder.vnc.updates.bytes': 0, 'rewarder.vnc.updates.pixels': 0}\n",
      "\u001b[36muniverse-Tsb2Bx-0 |\u001b[0m [2018-07-25 18:41:01,690] [INFO:universe.wrappers.logger] Stats for the past 5.00s: vnc_updates_ps=0.0 n=1 reaction_time=None observation_lag=None action_lag=None reward_ps=0.0 reward_total=0.0 vnc_bytes_ps[total]=0.0 vnc_pixels_ps[total]=0.0 reward_lag=None rewarder_message_lag=None fps=59.97\n",
      "\u001b[36muniverse-Tsb2Bx-0 |\u001b[0m [nginx] 2018/07/25 18:41:03 [info] 65#65: *10 client closed connection while waiting for request, client: 172.17.0.1, server: 0.0.0.0:15900\n",
      "\u001b[36muniverse-Tsb2Bx-0 |\u001b[0m [nginx] 2018/07/25 18:41:03 [info] 65#65: *11 client closed connection while waiting for request, client: 172.17.0.1, server: 0.0.0.0:15900\n",
      "\u001b[36muniverse-Tsb2Bx-0 |\u001b[0m [nginx] 2018/07/25 18:41:03 [info] 65#65: *12 client closed connection while waiting for request, client: 172.17.0.1, server: 0.0.0.0:15900\n",
      "\u001b[36muniverse-Tsb2Bx-0 |\u001b[0m [nginx] 2018/07/25 18:41:03 [info] 65#65: *13 client closed connection while waiting for request, client: 172.17.0.1, server: 0.0.0.0:15900\n",
      "\u001b[36muniverse-Tsb2Bx-0 |\u001b[0m [nginx] 2018/07/25 18:41:03 [info] 65#65: *14 client closed connection while waiting for request, client: 172.17.0.1, server: 0.0.0.0:15900\n",
      "\u001b[36muniverse-Tsb2Bx-0 |\u001b[0m [nginx] 2018/07/25 18:41:03 [info] 65#65: *15 client closed connection while waiting for request, client: 172.17.0.1, server: 0.0.0.0:15900\n",
      "\u001b[36muniverse-Tsb2Bx-0 |\u001b[0m [nginx] 2018/07/25 18:41:03 [info] 65#65: *16 client closed connection while waiting for request, client: 172.17.0.1, server: 0.0.0.0:15900\n",
      "\u001b[36muniverse-Tsb2Bx-0 |\u001b[0m [nginx] 2018/07/25 18:41:03 [info] 65#65: *17 client closed connection while waiting for request, client: 172.17.0.1, server: 0.0.0.0:15900\n",
      "\u001b[36muniverse-Tsb2Bx-0 |\u001b[0m [nginx] 2018/07/25 18:41:03 [info] 65#65: *18 client closed connection while waiting for request, client: 172.17.0.1, server: 0.0.0.0:15900\n",
      "\u001b[36muniverse-Tsb2Bx-0 |\u001b[0m [nginx] 2018/07/25 18:41:03 [info] 65#65: *19 client closed connection while waiting for request, client: 172.17.0.1, server: 0.0.0.0:15900\n",
      "\u001b[36muniverse-Tsb2Bx-0 |\u001b[0m [2018-07-25 18:41:03,378] [INFO:universe.rewarder.remote] CONNECTION STATUS: Marking connection as active: observer=False peer=tcp4:127.0.0.1:33358 total_conns=1\n"
     ]
    },
    {
     "name": "stderr",
     "output_type": "stream",
     "text": [
      "[2018-07-26 00:11:04,131] [0:localhost:5900] Sending reset for env_id=flashgames.NeonRace-v0 fps=60 episode_id=0\n"
     ]
    },
    {
     "name": "stdout",
     "output_type": "stream",
     "text": [
      "\u001b[36muniverse-Tsb2Bx-0 |\u001b[0m [2018-07-25 18:41:03,422] [INFO:universe.rewarder.remote] Received reset message: {'headers': {'sent_at': 1532544064.134628, 'message_id': 10, 'episode_id': '0'}, 'method': 'v0.env.reset', 'body': {'fps': 60, 'seed': None, 'env_id': 'flashgames.NeonRace-v0'}}\n",
      "\u001b[36muniverse-Tsb2Bx-0 |\u001b[0m [2018-07-25 18:41:03,449] [INFO:root] [EnvStatus] Changing env_state: running (env_id=None) -> resetting (env_id=flashgames.NeonRace-v0) (episode_id: 1->2, fps=60)\n",
      "\u001b[36muniverse-Tsb2Bx-0 |\u001b[0m [2018-07-25 18:41:03,451] [ERROR:root] Closing server (via subprocess.close()) and all chromes (via pkill chromedriver || :; pkill chrome || :)\n",
      "\u001b[36muniverse-Tsb2Bx-0 |\u001b[0m [2018-07-25 18:41:03,457] [INFO:root] [Rewarder] Blocking until env finishes resetting\n",
      "\u001b[36muniverse-Tsb2Bx-0 |\u001b[0m [init] [2018-07-25 18:41:03,488] init detected end of child process 115 with exit code 0, killed by SIGTERM: 15\n",
      "\u001b[36muniverse-Tsb2Bx-0 |\u001b[0m [2018-07-25 18:41:03,495] [INFO:root] [EnvController] RESET CAUSE: changing out environments due to v0.env.reset (with episode_id=0): flashgames.NeonRace-v0 -> flashgames.NeonRace-v0 (new episode_id=2 fps=60)\n",
      "\u001b[36muniverse-Tsb2Bx-0 |\u001b[0m [2018-07-25 18:41:03,496] [INFO:root] [EnvController] Env state: env_id=flashgames.NeonRace-v0 episode_id=2\n",
      "\u001b[36muniverse-Tsb2Bx-0 |\u001b[0m [init] [2018-07-25 18:41:03,502] init detected end of child process 130 with exit code 0, not killed by signal\n",
      "\u001b[36muniverse-Tsb2Bx-0 |\u001b[0m [init] [2018-07-25 18:41:03,504] init detected end of child process 355 with exit code 0, killed by SIGTERM: 15\n",
      "\u001b[36muniverse-Tsb2Bx-0 |\u001b[0m [2018-07-25 18:41:03,505] [INFO:root] [EnvController] Writing flashgames.NeonRace-v0 to /tmp/demo/env_id.txt\n",
      "\u001b[36muniverse-Tsb2Bx-0 |\u001b[0m [init] [2018-07-25 18:41:03,507] init detected end of child process 336 with exit code 0, killed by SIGTERM: 15\n",
      "\u001b[36muniverse-Tsb2Bx-0 |\u001b[0m [Wed Jul 25 18:41:03 UTC 2018] [/usr/local/bin/sudoable-env-setup] Allowing outbound network traffic to non-private IPs for git-lfs. (Going to fetch files via git lfs.)\n",
      "\u001b[36muniverse-Tsb2Bx-0 |\u001b[0m [nginx] 2018/07/25 18:41:03 [info] 65#65: *9 client closed connection while waiting for request, client: 127.0.0.1, server: 0.0.0.0:80\n",
      "\u001b[36muniverse-Tsb2Bx-0 |\u001b[0m [nginx] 2018/07/25 18:41:03 [info] 65#65: *8 client 127.0.0.1 closed keepalive connection\n",
      "\u001b[36muniverse-Tsb2Bx-0 |\u001b[0m [init] [2018-07-25 18:41:03,592] init detected end of child process 118 with exit code 0, not killed by signal\n",
      "\u001b[36muniverse-Tsb2Bx-0 |\u001b[0m [init] [2018-07-25 18:41:03,592] init detected end of child process 126 with exit code 0, not killed by signal\n",
      "\u001b[36muniverse-Tsb2Bx-0 |\u001b[0m [init] [2018-07-25 18:41:03,592] init detected end of child process 127 with exit code 0, not killed by signal\n",
      "\u001b[36muniverse-Tsb2Bx-0 |\u001b[0m [init] [2018-07-25 18:41:03,592] init detected end of child process 129 with exit code 0, killed by SIGTERM: 15\n",
      "\u001b[36muniverse-Tsb2Bx-0 |\u001b[0m [unpack-lfs] [2018-07-25 18:41:03,686] Unpacking files for flashgames.NeonRace-v0\n",
      "\u001b[36muniverse-Tsb2Bx-0 |\u001b[0m [unpack-lfs] [2018-07-25 18:41:03,746] Merged 5 files from /tmp/flashgames.NeonRace-v0/public -> /app/universe-envs/flashgames/build/public/flashgames.NeonRace-v0\n",
      "\u001b[36muniverse-Tsb2Bx-0 |\u001b[0m [unpack-lfs] [2018-07-25 18:41:03,755] Merged 7 files from /tmp/flashgames.NeonRace-v0/private -> /app/universe-envs/flashgames/build/private/flashgames.NeonRace-v0\n",
      "\u001b[36muniverse-Tsb2Bx-0 |\u001b[0m [unpack-lfs] [2018-07-25 18:41:03,756] Completed unpack for flashgames.NeonRace-v0 in 0.076s\n",
      "\u001b[36muniverse-Tsb2Bx-0 |\u001b[0m [Wed Jul 25 18:41:03 UTC 2018] [/usr/local/bin/sudoable-env-setup] [debug] unpack-lfs completed with status code: 0. Created completion file: /usr/local/openai/git-lfs/flashgames.NeonRace-v0\n",
      "\u001b[36muniverse-Tsb2Bx-0 |\u001b[0m [Wed Jul 25 18:41:03 UTC 2018] [/usr/local/bin/sudoable-env-setup] Disabling outbound network traffic for flashgames.NeonRace-v0\n",
      "\u001b[36muniverse-Tsb2Bx-0 |\u001b[0m [2018-07-25 18:41:03,830] [INFO:gym_flashgames.launcher] [EnvController] Launching new Chrome process (attempt 0/10)\n",
      "\u001b[36muniverse-Tsb2Bx-0 |\u001b[0m [2018-07-25 18:41:03,837] [INFO:root] Replacing selenium_wrapper_server since we currently do it at every episode boundary\n",
      "\u001b[36muniverse-Tsb2Bx-0 |\u001b[0m [2018-07-25 18:41:03,941] [selenium_wrapper_server] Calling webdriver.Chrome()\n",
      "\u001b[36muniverse-Tsb2Bx-0 |\u001b[0m [nginx] 2018/07/25 18:41:05 [info] 65#65: *20 client sent invalid request while reading client request line, client: 127.0.0.1, server: , request: \"CONNECT www.google.com:443 HTTP/1.1\"\n",
      "\u001b[36muniverse-Tsb2Bx-0 |\u001b[0m [nginx] 2018/07/25 18:41:05 [info] 65#65: *21 client sent invalid request while reading client request line, client: 127.0.0.1, server: , request: \"CONNECT www.google.com:443 HTTP/1.1\"\n",
      "\u001b[36muniverse-Tsb2Bx-0 |\u001b[0m [nginx] 2018/07/25 18:41:05 [info] 65#65: *22 client sent invalid request while reading client request line, client: 127.0.0.1, server: , request: \"CONNECT www.google.com:443 HTTP/1.1\"\n",
      "\u001b[36muniverse-Tsb2Bx-0 |\u001b[0m [2018-07-25 18:41:05,298] [selenium_wrapper_server] Call to webdriver.Chrome() completed: 1.36s\n",
      "\u001b[36muniverse-Tsb2Bx-0 |\u001b[0m [2018-07-25 18:41:05,299] [INFO:gym_flashgames.launcher] [EnvController] Navigating browser to url=http://localhost/flashgames.NeonRace-v0\n",
      "\u001b[36muniverse-Tsb2Bx-0 |\u001b[0m [2018-07-25 18:41:05,532] [INFO:root] [EnvController] Running command: /app/universe-envs/controlplane/bin/play_vexpect -e flashgames.NeonRace-v0 -r vnc://127.0.0.1:5900 -d\n",
      "\u001b[36muniverse-Tsb2Bx-0 |\u001b[0m [2018-07-25 18:41:06,283] [play_vexpect] No rewarder addresses were provided, so this env cannot connect to the remote's rewarder channel, and cannot send control messages (e.g. reset)\n",
      "\u001b[36muniverse-Tsb2Bx-0 |\u001b[0m [2018-07-25 18:41:06,283] [play_vexpect] Using the golang VNC implementation\n",
      "\u001b[36muniverse-Tsb2Bx-0 |\u001b[0m [2018-07-25 18:41:06,283] [play_vexpect] Using VNCSession arguments: {'compress_level': 0, 'encoding': 'zrle', 'subsample_level': 2, 'start_timeout': 7, 'fine_quality_level': 50}. (Customize by running \"env.configure(vnc_kwargs={...})\"\n",
      "\u001b[36muniverse-Tsb2Bx-0 |\u001b[0m [2018-07-25 18:41:06,284] [play_vexpect] Printed stats will ignore clock skew. (This usually makes sense only when the environment and agent are on the same machine.)\n",
      "\u001b[36muniverse-Tsb2Bx-0 |\u001b[0m [2018-07-25 18:41:06,291] [play_vexpect] [0] Connecting to environment: vnc://127.0.0.1:5900 password=openai. If desired, you can manually connect a VNC viewer, such as TurboVNC. Most environments provide a convenient in-browser VNC client: http://None/viewer/?password=openai\n",
      "\u001b[36muniverse-Tsb2Bx-0 |\u001b[0m [2018-07-25 18:41:06,291] [play_vexpect] [0] Connecting to environment details: vnc_address=127.0.0.1:5900 vnc_password=openai rewarder_address=None rewarder_password=openai\n",
      "\u001b[36muniverse-Tsb2Bx-0 |\u001b[0m 2018/07/25 18:41:06 I0725 18:41:06.292762 688 gymvnc.go:417] [0:127.0.0.1:5900] opening connection to VNC server\n",
      "\u001b[36muniverse-Tsb2Bx-0 |\u001b[0m [tigervnc] \n",
      "\u001b[36muniverse-Tsb2Bx-0 |\u001b[0m [tigervnc] Wed Jul 25 18:41:06 2018\n",
      "\u001b[36muniverse-Tsb2Bx-0 |\u001b[0m [tigervnc]  Connections: accepted: 127.0.0.1::40008\n",
      "\u001b[36muniverse-Tsb2Bx-0 |\u001b[0m [tigervnc]  SConnection: Client needs protocol version 3.8\n",
      "\u001b[36muniverse-Tsb2Bx-0 |\u001b[0m [tigervnc]  SConnection: Client requests security type VncAuth(2)\n",
      "\u001b[36muniverse-Tsb2Bx-0 |\u001b[0m [tigervnc]  VNCSConnST:  Server default pixel format depth 24 (32bpp) little-endian rgb888\n",
      "\u001b[36muniverse-Tsb2Bx-0 |\u001b[0m 2018/07/25 18:41:06 I0725 18:41:06.305249 688 gymvnc.go:550] [0:127.0.0.1:5900] connection established\n",
      "\u001b[36muniverse-Tsb2Bx-0 |\u001b[0m [tigervnc]  VNCSConnST:  Client pixel format depth 24 (32bpp) little-endian bgr888\n",
      "\u001b[36muniverse-Tsb2Bx-0 |\u001b[0m [2018-07-25 18:41:06,596] [play_vexpect] Waiting for any of [initialize0] to activate\n",
      "\u001b[36muniverse-Tsb2Bx-0 |\u001b[0m 2018/07/25 18:41:07 I0725 18:41:07.011671 58 gymvnc.go:374] [0:127.0.0.1:5900] update queue max of 60 reached; pausing further updates\n",
      "\u001b[36muniverse-Tsb2Bx-0 |\u001b[0m [2018-07-25 18:41:16,114] [play_vexpect] Applying transition: ClickTransition<initialize0->['initialize1'] x=342 y=487 buttonmask=1> for active state initialize0. (Summary: plausible_states=initialize0 distance_m=0.0 match_time_m=311us)\n",
      "\u001b[36muniverse-Tsb2Bx-0 |\u001b[0m [2018-07-25 18:41:16,129] [play_vexpect] Waiting for any of [initialize1] to activate (or whether any of [initialize0] are still active)\n"
     ]
    },
    {
     "name": "stdout",
     "output_type": "stream",
     "text": [
      "\u001b[36muniverse-Tsb2Bx-0 |\u001b[0m [2018-07-25 18:41:20,163] [play_vexpect] Advancing to the next hopeful state (2/2): initialize0\n",
      "\u001b[36muniverse-Tsb2Bx-0 |\u001b[0m [2018-07-25 18:41:20,180] [play_vexpect] Advancing to the next hopeful state (1/2): initialize1\n",
      "\u001b[36muniverse-Tsb2Bx-0 |\u001b[0m [2018-07-25 18:41:23,413] [play_vexpect] Applying transition: ClickTransition<initialize1->['initialize2'] x=159 y=217 buttonmask=1> for active state initialize1. (Summary: plausible_states=[initialize1, initialize0] distance_m=[0.0, 1.1524748] match_time_m=['186us', '86us'])\n",
      "\u001b[36muniverse-Tsb2Bx-0 |\u001b[0m [2018-07-25 18:41:23,429] [play_vexpect] Waiting for any of [initialize2] to activate (or whether any of [initialize1] are still active)\n",
      "\u001b[36muniverse-Tsb2Bx-0 |\u001b[0m [2018-07-25 18:41:23,831] [play_vexpect] Applying transition: ClickTransition<initialize2->['ready0', 'ready1', 'ready2'] x=107 y=234 buttonmask=1> for active state initialize2. (Summary: plausible_states=[initialize2, initialize1] distance_m=[0.0, 1.1360776] match_time_m=['321us', '103us'])\n",
      "\u001b[36muniverse-Tsb2Bx-0 |\u001b[0m [2018-07-25 18:41:23,846] [play_vexpect] Waiting for any of [ready0, ready1, ready2] to activate (or whether any of [initialize2] are still active)\n",
      "\u001b[36muniverse-Tsb2Bx-0 |\u001b[0m [2018-07-25 18:41:24,063] [play_vexpect] Applying transition: ClickTransition<ready1->[] x=0 y=0 buttonmask=0> for active state ready1. (Summary: plausible_states=[ready0, ready1, ready2, initialize2] distance_m=[2.5031936, 0.0046253935, 0.0062009618, 1.1523193] match_time_m=['199us', '87us', '77us', '71us'])\n",
      "\u001b[36muniverse-Tsb2Bx-0 |\u001b[0m [2018-07-25 18:41:24,064] [play_vexpect] Reaching start state: ready1\n",
      "\u001b[36muniverse-Tsb2Bx-0 |\u001b[0m [2018-07-25 18:41:24,065] [play_vexpect] vexpect macro complete in 17.737757s\n",
      "\u001b[36muniverse-Tsb2Bx-0 |\u001b[0m [tigervnc] \n",
      "\u001b[36muniverse-Tsb2Bx-0 |\u001b[0m [tigervnc] Wed Jul 25 18:41:24 2018\n",
      "\u001b[36muniverse-Tsb2Bx-0 |\u001b[0m [tigervnc]  Connections: closed: 127.0.0.1::40008 (Clean disconnection)\n",
      "\u001b[36muniverse-Tsb2Bx-0 |\u001b[0m [tigervnc]  EncodeManager: Framebuffer updates: 351\n",
      "\u001b[36muniverse-Tsb2Bx-0 |\u001b[0m [tigervnc]  EncodeManager:   ZRLE:\n",
      "\u001b[36muniverse-Tsb2Bx-0 |\u001b[0m [tigervnc]  EncodeManager:     Solid: 9 rects, 2.715 kpixels\n",
      "\u001b[36muniverse-Tsb2Bx-0 |\u001b[0m [tigervnc]  EncodeManager:            270 B (1:40.6222 ratio)\n",
      "\u001b[36muniverse-Tsb2Bx-0 |\u001b[0m [tigervnc]  EncodeManager:     Bitmap RLE: 290 rects, 580.705 kpixels\n",
      "\u001b[36muniverse-Tsb2Bx-0 |\u001b[0m [tigervnc]  EncodeManager:                 87.0557 KiB (1:26.0957 ratio)\n",
      "\u001b[36muniverse-Tsb2Bx-0 |\u001b[0m [tigervnc]  EncodeManager:     Indexed RLE: 345 rects, 1.6125 Mpixels\n",
      "\u001b[36muniverse-Tsb2Bx-0 |\u001b[0m [tigervnc]  EncodeManager:                  426.073 KiB (1:14.7929 ratio)\n",
      "\u001b[36muniverse-Tsb2Bx-0 |\u001b[0m [tigervnc]  EncodeManager:     Full Colour: 29 rects, 880.663 kpixels\n",
      "\u001b[36muniverse-Tsb2Bx-0 |\u001b[0m [tigervnc]  EncodeManager:                  2.52093 MiB (1:1.33276 ratio)\n",
      "\u001b[36muniverse-Tsb2Bx-0 |\u001b[0m [tigervnc]  EncodeManager:   Total: 673 rects, 3.07658 Mpixels\n",
      "\u001b[36muniverse-Tsb2Bx-0 |\u001b[0m [tigervnc]  EncodeManager:          3.02229 MiB (1:3.88578 ratio)\n",
      "\u001b[36muniverse-Tsb2Bx-0 |\u001b[0m [2018-07-25 18:41:24,324] [INFO:root] [EnvStatus] Changing env_state: resetting (env_id=flashgames.NeonRace-v0) -> running (env_id=flashgames.NeonRace-v0) (episode_id: 2->2, fps=60)\n",
      "\u001b[36muniverse-Tsb2Bx-0 |\u001b[0m [2018-07-25 18:41:24,325] [INFO:root] [Rewarder] Unblocking since env reset finished\n"
     ]
    },
    {
     "name": "stderr",
     "output_type": "stream",
     "text": [
      "[2018-07-26 00:11:25,029] [0:localhost:5900] Initial reset complete: episode_id=2\n"
     ]
    },
    {
     "name": "stdout",
     "output_type": "stream",
     "text": [
      "\u001b[36muniverse-Tsb2Bx-0 |\u001b[0m [2018-07-25 18:41:24,325] [INFO:root] [Rewarder] Changing reward_parsers: None -> flashgames.NeonRace-v0\n",
      "\u001b[36muniverse-Tsb2Bx-0 |\u001b[0m [2018-07-25 18:41:24,326] [INFO:root] [Rewarder] Writing flashgames.NeonRace-v0 to /tmp/demo/env_id.txt\n",
      "\u001b[36muniverse-Tsb2Bx-0 |\u001b[0m [2018-07-25 18:41:24,326] [INFO:universe.rewarder.remote] Sending rewarder message: {'headers': {'sent_at': 1532544084.3266487, 'message_id': 16, 'episode_id': '2', 'parent_runtime': 20.90387463569641, 'parent_message_id': 10}, 'method': 'v0.reply.env.reset', 'body': {}}\n",
      "\u001b[36muniverse-Tsb2Bx-0 |\u001b[0m [2018-07-25 18:41:25,626] [INFO:gym_controlplane.registration] Loaded scorer: <gym_controlplane.reward.score.OCRScorerV0 object at 0x7f66058077b8>\n",
      "\u001b[36muniverse-Tsb2Bx-0 |\u001b[0m [2018-07-25 18:41:25,746] [INFO:gym_controlplane.registration] Created reward parser for flashgames.NeonRace-v0: Reward<scorer=<gym_controlplane.reward.score.OCRScorerV0 object at 0x7f66058077b8> vexpect=VExpect<{'ready1': <gym_controlplane.integration.transition.ClickTransition object at 0x7f65d015d390>, 'ready2': <gym_controlplane.integration.transition.ClickTransition object at 0x7f65d015d4a8>, 'ready0': <gym_controlplane.integration.transition.ClickTransition object at 0x7f65d015d5f8>, 'initialize1': <gym_controlplane.integration.transition.ClickTransition object at 0x7f65d015d6d8>, 'initialize2': <gym_controlplane.integration.transition.ClickTransition object at 0x7f65d015d828>, 'initialize0': <gym_controlplane.integration.transition.ClickTransition object at 0x7f65d015d9b0>}>>\n",
      "\u001b[36muniverse-Tsb2Bx-0 |\u001b[0m [2018-07-25 18:41:25,746] [INFO:root] Using metadata_encoding={'type': 'qrcode', 'x': 914, 'width': 100, 'y': 658, 'height': 100} probe_key=96 subscription=[(119, 147, 512, 26), (90, 114, 90, 21), (914, 100, 658, 100)]\n",
      "\u001b[36muniverse-Tsb2Bx-0 |\u001b[0m [2018-07-25 18:41:25,747] [INFO:universe.rewarder.remote] [Rewarder] Over past 26.54s, sent 0 reward messages to agent: reward=0 reward_min=(empty) reward_max=(empty) done=False info={}\n",
      "\u001b[36muniverse-Tsb2Bx-0 |\u001b[0m [2018-07-25 18:41:25,747] [INFO:universe.rewarder.remote] [Rewarder] Ending previous episode: episode_reward=0 episode_count=2 episode_duration=36.56\n",
      "\u001b[36muniverse-Tsb2Bx-0 |\u001b[0m [2018-07-25 18:41:25,748] [INFO:universe.wrappers.logger] Stats for the past 24.06s: vnc_updates_ps=0.0 n=1 reaction_time=None observation_lag=None action_lag=None reward_ps=0.0 reward_total=0.0 vnc_bytes_ps[total]=0.0 vnc_pixels_ps[total]=0.0 reward_lag=None rewarder_message_lag=None fps=4.41\n",
      "\u001b[36muniverse-Tsb2Bx-0 |\u001b[0m 2018/07/25 18:41:25 I0725 18:41:25.756933 58 gymvnc.go:278] [0:127.0.0.1:5900] resuming updates\n",
      "\u001b[36muniverse-Tsb2Bx-0 |\u001b[0m [2018-07-25 18:41:25,802] [INFO:universe.pyprofile] [pyprofile] period=26.60s timers={\"reward.parsing.gameover\": {\"mean\": \"156.64us\", \"std\": \"0.00us\", \"calls\": 1}, \"score.crop_cache.readthrough.OCRScorerV0\": {\"mean\": \"53.03ms\", \"std\": \"0.00us\", \"calls\": 1}, \"rewarder.frame\": {\"mean\": \"17.71ms\", \"std\": \"893.34us\", \"calls\": 255}, \"rewarder_protocol.latency.rtt.skew_unadjusted\": {\"mean\": \"-1.42s\", \"std\": \"4.17ms\", \"calls\": 11}, \"rewarder.compute_reward\": {\"mean\": \"699.88us\", \"std\": \"3.41ms\", \"calls\": 255}, \"vnc_env.VNCEnv.vnc_session.step\": {\"mean\": \"241.39us\", \"std\": \"131.09us\", \"calls\": 255}, \"reward.parsing.score\": {\"mean\": \"53.19ms\", \"std\": \"0.00us\", \"calls\": 1}, \"rewarder.sleep\": {\"mean\": \"15.03ms\", \"std\": \"974.30us\", \"calls\": 255}, \"score.crop_cache.get.OCRScorerV0\": {\"mean\": \"6.44us\", \"std\": \"0.00us\", \"calls\": 1}, \"score.crop_cache.readthrough.MatchImage\": {\"mean\": \"77.72us\", \"std\": \"0.00us\", \"calls\": 1}, \"score.crop_cache.get.MatchImage\": {\"mean\": \"3.81us\", \"std\": \"0.00us\", \"calls\": 1}} counters={\"agent_conn.reward\": {\"mean\": 0.0, \"calls\": 1, \"std\": 0}, \"control.env_id_change\": {\"mean\": 1.0, \"calls\": 1, \"std\": 0}, \"control.env_id_change.flashgames.NeonRace-v0\": {\"mean\": 1.0, \"calls\": 1, \"std\": 0}, \"reward.vnc.updates.n\": {\"mean\": 0.23921568627450981, \"calls\": 255, \"std\": 3.8199681756194117}, \"rewarder_protocol.latency.rtt.skew_unadjusted.negative\": {\"mean\": 1.0, \"calls\": 11, \"std\": 0.0}, \"rewarder_protocol.messages\": {\"mean\": 1.0, \"calls\": 11, \"std\": 0.0}, \"rewarder_protocol.messages.v0.control.ping\": {\"mean\": 1.0, \"calls\": 10, \"std\": 0.0}, \"rewarder_protocol.messages.v0.env.reset\": {\"mean\": 1.0, \"calls\": 1, \"std\": 0}} gauges={} (export_time=102.76us)\n",
      "\u001b[36muniverse-Tsb2Bx-0 |\u001b[0m [2018-07-25 18:41:25,806] [INFO:root] [Rewarder] Rewarder fell behind by 1.4637575149536133s from target; losing 87 frames\n",
      "\u001b[36muniverse-Tsb2Bx-0 |\u001b[0m [2018-07-25 18:41:26,301] [INFO:gym_controlplane.reward.reward] First score parsed: score=2\n",
      "\u001b[36muniverse-Tsb2Bx-0 |\u001b[0m [2018-07-25 18:41:26,769] [INFO:universe.rewarder.remote] [Rewarder] Over past 1.02s, sent 15 reward messages to agent: reward=19.0 reward_min=-2.0 reward_max=2 done=False info={'rewarder.vnc.updates.n': 1, 'rewarder.profile': '<2397 bytes>', 'rewarder.vnc.updates.bytes': 9890, 'rewarder.vnc.updates.pixels': 4390}\n",
      "\u001b[36muniverse-Tsb2Bx-0 |\u001b[0m [2018-07-25 18:41:30,760] [INFO:universe.wrappers.logger] Stats for the past 5.01s: vnc_updates_ps=41.3 n=1 reaction_time=None observation_lag=None action_lag=None reward_ps=0.0 reward_total=0.0 vnc_bytes_ps[total]=2456411.3 vnc_pixels_ps[total]=2615642.2 reward_lag=None rewarder_message_lag=None fps=59.47\n",
      "\u001b[36muniverse-Tsb2Bx-0 |\u001b[0m [2018-07-25 18:41:30,809] [INFO:universe.pyprofile] [pyprofile] period=5.01s timers={\"reward.parsing.gameover\": {\"mean\": \"177.37us\", \"std\": \"83.13us\", \"calls\": 144}, \"score.crop_cache.readthrough.OCRScorerV0\": {\"mean\": \"10.51ms\", \"std\": \"1.58ms\", \"calls\": 34}, \"rewarder.frame\": {\"mean\": \"22.25ms\", \"std\": \"84.35ms\", \"calls\": 301}, \"rewarder.compute_reward\": {\"mean\": \"1.87ms\", \"std\": \"3.51ms\", \"calls\": 301}, \"vnc_env.VNCEnv.vnc_session.step\": {\"mean\": \"172.11us\", \"std\": \"96.51us\", \"calls\": 301}, \"reward.parsing.score\": {\"mean\": \"2.91ms\", \"std\": \"4.55ms\", \"calls\": 144}, \"rewarder.sleep.missed\": {\"mean\": \"732.81ms\", \"std\": \"1.03s\", \"calls\": 2}, \"rewarder.sleep\": {\"mean\": \"14.04ms\", \"std\": \"3.44ms\", \"calls\": 299}, \"score.crop_cache.get.OCRScorerV0\": {\"mean\": \"130.82us\", \"std\": \"81.26us\", \"calls\": 144}, \"score.crop_cache.readthrough.MatchImage\": {\"mean\": \"98.47us\", \"std\": \"38.11us\", \"calls\": 61}, \"score.crop_cache.get.MatchImage\": {\"mean\": \"58.86us\", \"std\": \"35.16us\", \"calls\": 144}} counters={\"agent_conn.reward\": {\"mean\": 1.114285714285714, \"calls\": 35, \"std\": 0.7183080025689688}, \"reward.vnc.updates.n\": {\"mean\": 0.48504983388704304, \"calls\": 301, \"std\": 0.5202010004235276}, \"score.crop_cache.hit.MatchImage\": {\"mean\": 1.0, \"calls\": 83, \"std\": 0.0}, \"score.crop_cache.hit.OCRScorerV0\": {\"mean\": 1.0, \"calls\": 110, \"std\": 0.0}} gauges={\"reward_parser.score.last_score\": {\"value\": 41.0, \"mean\": 35.677165354330725, \"calls\": 127, \"std\": 10.28551292002477}} (export_time=146.87us)\n",
      "\u001b[36muniverse-Tsb2Bx-0 |\u001b[0m [2018-07-25 18:41:30,809] [INFO:universe.rewarder.remote] [Rewarder] Over past 4.04s, sent 21 reward messages to agent: reward=20.0 reward_min=0 reward_max=1.0 done=False info={'rewarder.vnc.updates.n': 0, 'rewarder.profile': '<2198 bytes>', 'rewarder.vnc.updates.bytes': 0, 'rewarder.vnc.updates.pixels': 0}\n"
     ]
    }
   ],
   "source": [
    "env = gym.make('flashgames.NeonRace-v0')\n",
    "env.configure(remotes=1)"
   ]
  },
  {
   "cell_type": "code",
   "execution_count": 5,
   "metadata": {},
   "outputs": [
    {
     "name": "stderr",
     "output_type": "stream",
     "text": [
      "[2018-07-26 00:11:59,903] [0:localhost:5900] Sending reset for env_id=flashgames.NeonRace-v0 fps=60 episode_id=0\n"
     ]
    },
    {
     "name": "stdout",
     "output_type": "stream",
     "text": [
      "\u001b[36muniverse-Tsb2Bx-0 |\u001b[0m [2018-07-25 18:41:59,232] [INFO:universe.rewarder.remote] Received reset message: {'headers': {'sent_at': 1532544119.9048839, 'message_id': 12, 'episode_id': '0'}, 'method': 'v0.env.reset', 'body': {'fps': 60, 'seed': None, 'env_id': 'flashgames.NeonRace-v0'}}\n",
      "\u001b[36muniverse-Tsb2Bx-0 |\u001b[0m [2018-07-25 18:41:59,236] [INFO:root] [EnvStatus] Changing env_state: running (env_id=flashgames.NeonRace-v0) -> resetting (env_id=flashgames.NeonRace-v0) (episode_id: 3->4, fps=60)\n",
      "\u001b[36muniverse-Tsb2Bx-0 |\u001b[0m [2018-07-25 18:41:59,236] [INFO:root] [EnvController] RESET CAUSE: Resetting environment due to v0.env.reset (with episode_id=0), keeping same env_id=flashgames.NeonRace-v0: new episode_id=4 fps=60\n",
      "\u001b[36muniverse-Tsb2Bx-0 |\u001b[0m [2018-07-25 18:41:59,236] [INFO:root] [EnvController] Env state: env_id=flashgames.NeonRace-v0 episode_id=4\n",
      "\u001b[36muniverse-Tsb2Bx-0 |\u001b[0m [2018-07-25 18:41:59,241] [INFO:root] [EnvController] Writing flashgames.NeonRace-v0 to /tmp/demo/env_id.txt\n",
      "\u001b[36muniverse-Tsb2Bx-0 |\u001b[0m [2018-07-25 18:41:59,242] [ERROR:root] Closing server (via subprocess.close()) and all chromes (via pkill chromedriver || :; pkill chrome || :)\n",
      "\u001b[36muniverse-Tsb2Bx-0 |\u001b[0m [2018-07-25 18:41:59,254] [INFO:root] [Rewarder] Blocking until env finishes resetting\n",
      "\u001b[36muniverse-Tsb2Bx-0 |\u001b[0m [init] [2018-07-25 18:41:59,267] init detected end of child process 780 with exit code 0, killed by SIGTERM: 15\n",
      "\u001b[36muniverse-Tsb2Bx-0 |\u001b[0m [init] [2018-07-25 18:41:59,275] init detected end of child process 795 with exit code 0, not killed by signal\n",
      "\u001b[36muniverse-Tsb2Bx-0 |\u001b[0m [init] [2018-07-25 18:41:59,278] init detected end of child process 1001 with exit code 0, killed by SIGTERM: 15\n",
      "\u001b[36muniverse-Tsb2Bx-0 |\u001b[0m [init] [2018-07-25 18:41:59,286] init detected end of child process 1021 with exit code 0, killed by SIGTERM: 15\n",
      "\u001b[36muniverse-Tsb2Bx-0 |\u001b[0m [Wed Jul 25 18:41:59 UTC 2018] [/usr/local/bin/sudoable-env-setup] Allowing outbound network traffic to non-private IPs for git-lfs. (Going to fetch files via git lfs.)\n",
      "\u001b[36muniverse-Tsb2Bx-0 |\u001b[0m [nginx] 2018/07/25 18:41:59 [info] 65#65: *36 client 127.0.0.1 closed keepalive connection\n",
      "\u001b[36muniverse-Tsb2Bx-0 |\u001b[0m [nginx] 2018/07/25 18:41:59 [info] 65#65: *31 client closed connection while waiting for request, client: 127.0.0.1, server: 0.0.0.0:80\n",
      "\u001b[36muniverse-Tsb2Bx-0 |\u001b[0m [nginx] 2018/07/25 18:41:59 [info] 65#65: *32 client closed connection while waiting for request, client: 127.0.0.1, server: 0.0.0.0:80\n",
      "\u001b[36muniverse-Tsb2Bx-0 |\u001b[0m [nginx] 2018/07/25 18:41:59 [info] 65#65: *33 client closed connection while waiting for request, client: 127.0.0.1, server: 0.0.0.0:80\n",
      "\u001b[36muniverse-Tsb2Bx-0 |\u001b[0m [nginx] 2018/07/25 18:41:59 [info] 65#65: *34 client closed connection while waiting for request, client: 127.0.0.1, server: 0.0.0.0:80\n",
      "\u001b[36muniverse-Tsb2Bx-0 |\u001b[0m [nginx] 2018/07/25 18:41:59 [info] 65#65: *30 client 127.0.0.1 closed keepalive connection\n",
      "\u001b[36muniverse-Tsb2Bx-0 |\u001b[0m [nginx] 2018/07/25 18:41:59 [info] 65#65: *35 client 127.0.0.1 closed keepalive connection\n",
      "\u001b[36muniverse-Tsb2Bx-0 |\u001b[0m [Wed Jul 25 18:41:59 UTC 2018] [/usr/local/bin/sudoable-env-setup] Completion file /usr/local/openai/git-lfs/flashgames.NeonRace-v0 exists; not git-lfs pulling\n",
      "\u001b[36muniverse-Tsb2Bx-0 |\u001b[0m [init] [2018-07-25 18:41:59,414] init detected end of child process 783 with exit code 0, not killed by signal\n",
      "\u001b[36muniverse-Tsb2Bx-0 |\u001b[0m [init] [2018-07-25 18:41:59,418] init detected end of child process 791 with exit code 0, not killed by signal\n",
      "\u001b[36muniverse-Tsb2Bx-0 |\u001b[0m [init] [2018-07-25 18:41:59,419] init detected end of child process 1033 with exit code 0, killed by SIGTERM: 15\n",
      "\u001b[36muniverse-Tsb2Bx-0 |\u001b[0m [init] [2018-07-25 18:41:59,420] init detected end of child process 792 with exit code 0, not killed by signal\n",
      "\u001b[36muniverse-Tsb2Bx-0 |\u001b[0m [init] [2018-07-25 18:41:59,420] init detected end of child process 794 with exit code 0, killed by SIGTERM: 15\n",
      "\u001b[36muniverse-Tsb2Bx-0 |\u001b[0m [Wed Jul 25 18:41:59 UTC 2018] [/usr/local/bin/sudoable-env-setup] Disabling outbound network traffic for flashgames.NeonRace-v0\n",
      "\u001b[36muniverse-Tsb2Bx-0 |\u001b[0m [2018-07-25 18:41:59,453] [INFO:gym_flashgames.launcher] [EnvController] Launching new Chrome process (attempt 0/10)\n",
      "\u001b[36muniverse-Tsb2Bx-0 |\u001b[0m [2018-07-25 18:41:59,454] [INFO:root] Replacing selenium_wrapper_server since we currently do it at every episode boundary\n",
      "\u001b[36muniverse-Tsb2Bx-0 |\u001b[0m [2018-07-25 18:41:59,589] [selenium_wrapper_server] Calling webdriver.Chrome()\n"
     ]
    }
   ],
   "source": [
    "obs_n = env.reset()"
   ]
  },
  {
   "cell_type": "code",
   "execution_count": null,
   "metadata": {},
   "outputs": [],
   "source": [
    "while True:\n",
    "    action_n = [[('KeyEvent', 'ArrowUp', True)] for ob in observation_n]"
   ]
  }
 ],
 "metadata": {
  "kernelspec": {
   "display_name": "Python 3",
   "language": "python",
   "name": "python3"
  },
  "language_info": {
   "codemirror_mode": {
    "name": "ipython",
    "version": 3
   },
   "file_extension": ".py",
   "mimetype": "text/x-python",
   "name": "python",
   "nbconvert_exporter": "python",
   "pygments_lexer": "ipython3",
   "version": "3.6.6"
  }
 },
 "nbformat": 4,
 "nbformat_minor": 2
}
